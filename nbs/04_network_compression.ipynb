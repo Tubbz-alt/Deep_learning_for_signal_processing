{
  "nbformat": 4,
  "nbformat_minor": 0,
  "metadata": {
    "colab": {
      "name": "Assignment3_part1.ipynb",
      "provenance": [],
      "collapsed_sections": [
        "uwPx1D-yFTcR",
        "xSm2EtuaFi4r"
      ]
    },
    "kernelspec": {
      "name": "python3",
      "display_name": "Python 3"
    },
    "accelerator": "GPU",
    "widgets": {
      "application/vnd.jupyter.widget-state+json": {
        "4a877ba5605a4ffb9c0ecb707260c984": {
          "model_module": "@jupyter-widgets/controls",
          "model_name": "HBoxModel",
          "state": {
            "_view_name": "HBoxView",
            "_dom_classes": [],
            "_model_name": "HBoxModel",
            "_view_module": "@jupyter-widgets/controls",
            "_model_module_version": "1.5.0",
            "_view_count": null,
            "_view_module_version": "1.5.0",
            "box_style": "",
            "layout": "IPY_MODEL_6cfea0ed4b2045668553275e504dd949",
            "_model_module": "@jupyter-widgets/controls",
            "children": [
              "IPY_MODEL_275c65c94a64472b8ccc3315ff45b704",
              "IPY_MODEL_dd2e4ecd081f42e5abc1c0cdbbac8a3f"
            ]
          }
        },
        "6cfea0ed4b2045668553275e504dd949": {
          "model_module": "@jupyter-widgets/base",
          "model_name": "LayoutModel",
          "state": {
            "_view_name": "LayoutView",
            "grid_template_rows": null,
            "right": null,
            "justify_content": null,
            "_view_module": "@jupyter-widgets/base",
            "overflow": null,
            "_model_module_version": "1.2.0",
            "_view_count": null,
            "flex_flow": null,
            "width": null,
            "min_width": null,
            "border": null,
            "align_items": null,
            "bottom": null,
            "_model_module": "@jupyter-widgets/base",
            "top": null,
            "grid_column": null,
            "overflow_y": null,
            "overflow_x": null,
            "grid_auto_flow": null,
            "grid_area": null,
            "grid_template_columns": null,
            "flex": null,
            "_model_name": "LayoutModel",
            "justify_items": null,
            "grid_row": null,
            "max_height": null,
            "align_content": null,
            "visibility": null,
            "align_self": null,
            "height": null,
            "min_height": null,
            "padding": null,
            "grid_auto_rows": null,
            "grid_gap": null,
            "max_width": null,
            "order": null,
            "_view_module_version": "1.2.0",
            "grid_template_areas": null,
            "object_position": null,
            "object_fit": null,
            "grid_auto_columns": null,
            "margin": null,
            "display": null,
            "left": null
          }
        },
        "275c65c94a64472b8ccc3315ff45b704": {
          "model_module": "@jupyter-widgets/controls",
          "model_name": "IntProgressModel",
          "state": {
            "_view_name": "ProgressView",
            "style": "IPY_MODEL_f2e3cbebed5740a38aa353c51f9d541a",
            "_dom_classes": [],
            "description": "",
            "_model_name": "IntProgressModel",
            "bar_style": "info",
            "max": 1,
            "_view_module": "@jupyter-widgets/controls",
            "_model_module_version": "1.5.0",
            "value": 1,
            "_view_count": null,
            "_view_module_version": "1.5.0",
            "orientation": "horizontal",
            "min": 0,
            "description_tooltip": null,
            "_model_module": "@jupyter-widgets/controls",
            "layout": "IPY_MODEL_dd72bbeec2ac4605a82c60fdabcf733c"
          }
        },
        "dd2e4ecd081f42e5abc1c0cdbbac8a3f": {
          "model_module": "@jupyter-widgets/controls",
          "model_name": "HTMLModel",
          "state": {
            "_view_name": "HTMLView",
            "style": "IPY_MODEL_06cb0311eaa2474da91135b11aa89fc8",
            "_dom_classes": [],
            "description": "",
            "_model_name": "HTMLModel",
            "placeholder": "​",
            "_view_module": "@jupyter-widgets/controls",
            "_model_module_version": "1.5.0",
            "value": " 9920512/? [00:20&lt;00:00, 1226564.70it/s]",
            "_view_count": null,
            "_view_module_version": "1.5.0",
            "description_tooltip": null,
            "_model_module": "@jupyter-widgets/controls",
            "layout": "IPY_MODEL_79ce0d45723249da841c7e76757122c7"
          }
        },
        "f2e3cbebed5740a38aa353c51f9d541a": {
          "model_module": "@jupyter-widgets/controls",
          "model_name": "ProgressStyleModel",
          "state": {
            "_view_name": "StyleView",
            "_model_name": "ProgressStyleModel",
            "description_width": "initial",
            "_view_module": "@jupyter-widgets/base",
            "_model_module_version": "1.5.0",
            "_view_count": null,
            "_view_module_version": "1.2.0",
            "bar_color": null,
            "_model_module": "@jupyter-widgets/controls"
          }
        },
        "dd72bbeec2ac4605a82c60fdabcf733c": {
          "model_module": "@jupyter-widgets/base",
          "model_name": "LayoutModel",
          "state": {
            "_view_name": "LayoutView",
            "grid_template_rows": null,
            "right": null,
            "justify_content": null,
            "_view_module": "@jupyter-widgets/base",
            "overflow": null,
            "_model_module_version": "1.2.0",
            "_view_count": null,
            "flex_flow": null,
            "width": null,
            "min_width": null,
            "border": null,
            "align_items": null,
            "bottom": null,
            "_model_module": "@jupyter-widgets/base",
            "top": null,
            "grid_column": null,
            "overflow_y": null,
            "overflow_x": null,
            "grid_auto_flow": null,
            "grid_area": null,
            "grid_template_columns": null,
            "flex": null,
            "_model_name": "LayoutModel",
            "justify_items": null,
            "grid_row": null,
            "max_height": null,
            "align_content": null,
            "visibility": null,
            "align_self": null,
            "height": null,
            "min_height": null,
            "padding": null,
            "grid_auto_rows": null,
            "grid_gap": null,
            "max_width": null,
            "order": null,
            "_view_module_version": "1.2.0",
            "grid_template_areas": null,
            "object_position": null,
            "object_fit": null,
            "grid_auto_columns": null,
            "margin": null,
            "display": null,
            "left": null
          }
        },
        "06cb0311eaa2474da91135b11aa89fc8": {
          "model_module": "@jupyter-widgets/controls",
          "model_name": "DescriptionStyleModel",
          "state": {
            "_view_name": "StyleView",
            "_model_name": "DescriptionStyleModel",
            "description_width": "",
            "_view_module": "@jupyter-widgets/base",
            "_model_module_version": "1.5.0",
            "_view_count": null,
            "_view_module_version": "1.2.0",
            "_model_module": "@jupyter-widgets/controls"
          }
        },
        "79ce0d45723249da841c7e76757122c7": {
          "model_module": "@jupyter-widgets/base",
          "model_name": "LayoutModel",
          "state": {
            "_view_name": "LayoutView",
            "grid_template_rows": null,
            "right": null,
            "justify_content": null,
            "_view_module": "@jupyter-widgets/base",
            "overflow": null,
            "_model_module_version": "1.2.0",
            "_view_count": null,
            "flex_flow": null,
            "width": null,
            "min_width": null,
            "border": null,
            "align_items": null,
            "bottom": null,
            "_model_module": "@jupyter-widgets/base",
            "top": null,
            "grid_column": null,
            "overflow_y": null,
            "overflow_x": null,
            "grid_auto_flow": null,
            "grid_area": null,
            "grid_template_columns": null,
            "flex": null,
            "_model_name": "LayoutModel",
            "justify_items": null,
            "grid_row": null,
            "max_height": null,
            "align_content": null,
            "visibility": null,
            "align_self": null,
            "height": null,
            "min_height": null,
            "padding": null,
            "grid_auto_rows": null,
            "grid_gap": null,
            "max_width": null,
            "order": null,
            "_view_module_version": "1.2.0",
            "grid_template_areas": null,
            "object_position": null,
            "object_fit": null,
            "grid_auto_columns": null,
            "margin": null,
            "display": null,
            "left": null
          }
        },
        "44d90e3d20a04a20ba0bf41482136c00": {
          "model_module": "@jupyter-widgets/controls",
          "model_name": "HBoxModel",
          "state": {
            "_view_name": "HBoxView",
            "_dom_classes": [],
            "_model_name": "HBoxModel",
            "_view_module": "@jupyter-widgets/controls",
            "_model_module_version": "1.5.0",
            "_view_count": null,
            "_view_module_version": "1.5.0",
            "box_style": "",
            "layout": "IPY_MODEL_eac760c24966404b9a7a869a6b76467d",
            "_model_module": "@jupyter-widgets/controls",
            "children": [
              "IPY_MODEL_15fbadc060c84ec4a8af4672a0aa4341",
              "IPY_MODEL_6ccd99ea4df240dfa0a61d7b26e0a36b"
            ]
          }
        },
        "eac760c24966404b9a7a869a6b76467d": {
          "model_module": "@jupyter-widgets/base",
          "model_name": "LayoutModel",
          "state": {
            "_view_name": "LayoutView",
            "grid_template_rows": null,
            "right": null,
            "justify_content": null,
            "_view_module": "@jupyter-widgets/base",
            "overflow": null,
            "_model_module_version": "1.2.0",
            "_view_count": null,
            "flex_flow": null,
            "width": null,
            "min_width": null,
            "border": null,
            "align_items": null,
            "bottom": null,
            "_model_module": "@jupyter-widgets/base",
            "top": null,
            "grid_column": null,
            "overflow_y": null,
            "overflow_x": null,
            "grid_auto_flow": null,
            "grid_area": null,
            "grid_template_columns": null,
            "flex": null,
            "_model_name": "LayoutModel",
            "justify_items": null,
            "grid_row": null,
            "max_height": null,
            "align_content": null,
            "visibility": null,
            "align_self": null,
            "height": null,
            "min_height": null,
            "padding": null,
            "grid_auto_rows": null,
            "grid_gap": null,
            "max_width": null,
            "order": null,
            "_view_module_version": "1.2.0",
            "grid_template_areas": null,
            "object_position": null,
            "object_fit": null,
            "grid_auto_columns": null,
            "margin": null,
            "display": null,
            "left": null
          }
        },
        "15fbadc060c84ec4a8af4672a0aa4341": {
          "model_module": "@jupyter-widgets/controls",
          "model_name": "IntProgressModel",
          "state": {
            "_view_name": "ProgressView",
            "style": "IPY_MODEL_51a616afb4634ff59e0bae50ded5e231",
            "_dom_classes": [],
            "description": "",
            "_model_name": "IntProgressModel",
            "bar_style": "success",
            "max": 1,
            "_view_module": "@jupyter-widgets/controls",
            "_model_module_version": "1.5.0",
            "value": 1,
            "_view_count": null,
            "_view_module_version": "1.5.0",
            "orientation": "horizontal",
            "min": 0,
            "description_tooltip": null,
            "_model_module": "@jupyter-widgets/controls",
            "layout": "IPY_MODEL_0070027eff964159aa8bd2011270aa32"
          }
        },
        "6ccd99ea4df240dfa0a61d7b26e0a36b": {
          "model_module": "@jupyter-widgets/controls",
          "model_name": "HTMLModel",
          "state": {
            "_view_name": "HTMLView",
            "style": "IPY_MODEL_73128a7eed664251b443b3e29d6a06e1",
            "_dom_classes": [],
            "description": "",
            "_model_name": "HTMLModel",
            "placeholder": "​",
            "_view_module": "@jupyter-widgets/controls",
            "_model_module_version": "1.5.0",
            "value": " 32768/? [00:02&lt;00:00, 11979.85it/s]",
            "_view_count": null,
            "_view_module_version": "1.5.0",
            "description_tooltip": null,
            "_model_module": "@jupyter-widgets/controls",
            "layout": "IPY_MODEL_83c07f1d8db149d38cd04116c2fffe9b"
          }
        },
        "51a616afb4634ff59e0bae50ded5e231": {
          "model_module": "@jupyter-widgets/controls",
          "model_name": "ProgressStyleModel",
          "state": {
            "_view_name": "StyleView",
            "_model_name": "ProgressStyleModel",
            "description_width": "initial",
            "_view_module": "@jupyter-widgets/base",
            "_model_module_version": "1.5.0",
            "_view_count": null,
            "_view_module_version": "1.2.0",
            "bar_color": null,
            "_model_module": "@jupyter-widgets/controls"
          }
        },
        "0070027eff964159aa8bd2011270aa32": {
          "model_module": "@jupyter-widgets/base",
          "model_name": "LayoutModel",
          "state": {
            "_view_name": "LayoutView",
            "grid_template_rows": null,
            "right": null,
            "justify_content": null,
            "_view_module": "@jupyter-widgets/base",
            "overflow": null,
            "_model_module_version": "1.2.0",
            "_view_count": null,
            "flex_flow": null,
            "width": null,
            "min_width": null,
            "border": null,
            "align_items": null,
            "bottom": null,
            "_model_module": "@jupyter-widgets/base",
            "top": null,
            "grid_column": null,
            "overflow_y": null,
            "overflow_x": null,
            "grid_auto_flow": null,
            "grid_area": null,
            "grid_template_columns": null,
            "flex": null,
            "_model_name": "LayoutModel",
            "justify_items": null,
            "grid_row": null,
            "max_height": null,
            "align_content": null,
            "visibility": null,
            "align_self": null,
            "height": null,
            "min_height": null,
            "padding": null,
            "grid_auto_rows": null,
            "grid_gap": null,
            "max_width": null,
            "order": null,
            "_view_module_version": "1.2.0",
            "grid_template_areas": null,
            "object_position": null,
            "object_fit": null,
            "grid_auto_columns": null,
            "margin": null,
            "display": null,
            "left": null
          }
        },
        "73128a7eed664251b443b3e29d6a06e1": {
          "model_module": "@jupyter-widgets/controls",
          "model_name": "DescriptionStyleModel",
          "state": {
            "_view_name": "StyleView",
            "_model_name": "DescriptionStyleModel",
            "description_width": "",
            "_view_module": "@jupyter-widgets/base",
            "_model_module_version": "1.5.0",
            "_view_count": null,
            "_view_module_version": "1.2.0",
            "_model_module": "@jupyter-widgets/controls"
          }
        },
        "83c07f1d8db149d38cd04116c2fffe9b": {
          "model_module": "@jupyter-widgets/base",
          "model_name": "LayoutModel",
          "state": {
            "_view_name": "LayoutView",
            "grid_template_rows": null,
            "right": null,
            "justify_content": null,
            "_view_module": "@jupyter-widgets/base",
            "overflow": null,
            "_model_module_version": "1.2.0",
            "_view_count": null,
            "flex_flow": null,
            "width": null,
            "min_width": null,
            "border": null,
            "align_items": null,
            "bottom": null,
            "_model_module": "@jupyter-widgets/base",
            "top": null,
            "grid_column": null,
            "overflow_y": null,
            "overflow_x": null,
            "grid_auto_flow": null,
            "grid_area": null,
            "grid_template_columns": null,
            "flex": null,
            "_model_name": "LayoutModel",
            "justify_items": null,
            "grid_row": null,
            "max_height": null,
            "align_content": null,
            "visibility": null,
            "align_self": null,
            "height": null,
            "min_height": null,
            "padding": null,
            "grid_auto_rows": null,
            "grid_gap": null,
            "max_width": null,
            "order": null,
            "_view_module_version": "1.2.0",
            "grid_template_areas": null,
            "object_position": null,
            "object_fit": null,
            "grid_auto_columns": null,
            "margin": null,
            "display": null,
            "left": null
          }
        },
        "2328815211084168b38544e7282e411d": {
          "model_module": "@jupyter-widgets/controls",
          "model_name": "HBoxModel",
          "state": {
            "_view_name": "HBoxView",
            "_dom_classes": [],
            "_model_name": "HBoxModel",
            "_view_module": "@jupyter-widgets/controls",
            "_model_module_version": "1.5.0",
            "_view_count": null,
            "_view_module_version": "1.5.0",
            "box_style": "",
            "layout": "IPY_MODEL_86a7dea721604693add881b0f42d7c57",
            "_model_module": "@jupyter-widgets/controls",
            "children": [
              "IPY_MODEL_0f25fe7169584287ae14985b884fade1",
              "IPY_MODEL_b4e3406810314ce382710535b8b1ba69"
            ]
          }
        },
        "86a7dea721604693add881b0f42d7c57": {
          "model_module": "@jupyter-widgets/base",
          "model_name": "LayoutModel",
          "state": {
            "_view_name": "LayoutView",
            "grid_template_rows": null,
            "right": null,
            "justify_content": null,
            "_view_module": "@jupyter-widgets/base",
            "overflow": null,
            "_model_module_version": "1.2.0",
            "_view_count": null,
            "flex_flow": null,
            "width": null,
            "min_width": null,
            "border": null,
            "align_items": null,
            "bottom": null,
            "_model_module": "@jupyter-widgets/base",
            "top": null,
            "grid_column": null,
            "overflow_y": null,
            "overflow_x": null,
            "grid_auto_flow": null,
            "grid_area": null,
            "grid_template_columns": null,
            "flex": null,
            "_model_name": "LayoutModel",
            "justify_items": null,
            "grid_row": null,
            "max_height": null,
            "align_content": null,
            "visibility": null,
            "align_self": null,
            "height": null,
            "min_height": null,
            "padding": null,
            "grid_auto_rows": null,
            "grid_gap": null,
            "max_width": null,
            "order": null,
            "_view_module_version": "1.2.0",
            "grid_template_areas": null,
            "object_position": null,
            "object_fit": null,
            "grid_auto_columns": null,
            "margin": null,
            "display": null,
            "left": null
          }
        },
        "0f25fe7169584287ae14985b884fade1": {
          "model_module": "@jupyter-widgets/controls",
          "model_name": "IntProgressModel",
          "state": {
            "_view_name": "ProgressView",
            "style": "IPY_MODEL_741a0576d89a4468a18449a7bdf92e8f",
            "_dom_classes": [],
            "description": "",
            "_model_name": "IntProgressModel",
            "bar_style": "success",
            "max": 1,
            "_view_module": "@jupyter-widgets/controls",
            "_model_module_version": "1.5.0",
            "value": 1,
            "_view_count": null,
            "_view_module_version": "1.5.0",
            "orientation": "horizontal",
            "min": 0,
            "description_tooltip": null,
            "_model_module": "@jupyter-widgets/controls",
            "layout": "IPY_MODEL_b9cd70c114214396ad9b48cc3be94fec"
          }
        },
        "b4e3406810314ce382710535b8b1ba69": {
          "model_module": "@jupyter-widgets/controls",
          "model_name": "HTMLModel",
          "state": {
            "_view_name": "HTMLView",
            "style": "IPY_MODEL_16d0626769ff41fc84cee2a4946ed6a6",
            "_dom_classes": [],
            "description": "",
            "_model_name": "HTMLModel",
            "placeholder": "​",
            "_view_module": "@jupyter-widgets/controls",
            "_model_module_version": "1.5.0",
            "value": " 1654784/? [00:01&lt;00:00, 831751.64it/s]",
            "_view_count": null,
            "_view_module_version": "1.5.0",
            "description_tooltip": null,
            "_model_module": "@jupyter-widgets/controls",
            "layout": "IPY_MODEL_801499f8c71442e28dcc112edd372fcd"
          }
        },
        "741a0576d89a4468a18449a7bdf92e8f": {
          "model_module": "@jupyter-widgets/controls",
          "model_name": "ProgressStyleModel",
          "state": {
            "_view_name": "StyleView",
            "_model_name": "ProgressStyleModel",
            "description_width": "initial",
            "_view_module": "@jupyter-widgets/base",
            "_model_module_version": "1.5.0",
            "_view_count": null,
            "_view_module_version": "1.2.0",
            "bar_color": null,
            "_model_module": "@jupyter-widgets/controls"
          }
        },
        "b9cd70c114214396ad9b48cc3be94fec": {
          "model_module": "@jupyter-widgets/base",
          "model_name": "LayoutModel",
          "state": {
            "_view_name": "LayoutView",
            "grid_template_rows": null,
            "right": null,
            "justify_content": null,
            "_view_module": "@jupyter-widgets/base",
            "overflow": null,
            "_model_module_version": "1.2.0",
            "_view_count": null,
            "flex_flow": null,
            "width": null,
            "min_width": null,
            "border": null,
            "align_items": null,
            "bottom": null,
            "_model_module": "@jupyter-widgets/base",
            "top": null,
            "grid_column": null,
            "overflow_y": null,
            "overflow_x": null,
            "grid_auto_flow": null,
            "grid_area": null,
            "grid_template_columns": null,
            "flex": null,
            "_model_name": "LayoutModel",
            "justify_items": null,
            "grid_row": null,
            "max_height": null,
            "align_content": null,
            "visibility": null,
            "align_self": null,
            "height": null,
            "min_height": null,
            "padding": null,
            "grid_auto_rows": null,
            "grid_gap": null,
            "max_width": null,
            "order": null,
            "_view_module_version": "1.2.0",
            "grid_template_areas": null,
            "object_position": null,
            "object_fit": null,
            "grid_auto_columns": null,
            "margin": null,
            "display": null,
            "left": null
          }
        },
        "16d0626769ff41fc84cee2a4946ed6a6": {
          "model_module": "@jupyter-widgets/controls",
          "model_name": "DescriptionStyleModel",
          "state": {
            "_view_name": "StyleView",
            "_model_name": "DescriptionStyleModel",
            "description_width": "",
            "_view_module": "@jupyter-widgets/base",
            "_model_module_version": "1.5.0",
            "_view_count": null,
            "_view_module_version": "1.2.0",
            "_model_module": "@jupyter-widgets/controls"
          }
        },
        "801499f8c71442e28dcc112edd372fcd": {
          "model_module": "@jupyter-widgets/base",
          "model_name": "LayoutModel",
          "state": {
            "_view_name": "LayoutView",
            "grid_template_rows": null,
            "right": null,
            "justify_content": null,
            "_view_module": "@jupyter-widgets/base",
            "overflow": null,
            "_model_module_version": "1.2.0",
            "_view_count": null,
            "flex_flow": null,
            "width": null,
            "min_width": null,
            "border": null,
            "align_items": null,
            "bottom": null,
            "_model_module": "@jupyter-widgets/base",
            "top": null,
            "grid_column": null,
            "overflow_y": null,
            "overflow_x": null,
            "grid_auto_flow": null,
            "grid_area": null,
            "grid_template_columns": null,
            "flex": null,
            "_model_name": "LayoutModel",
            "justify_items": null,
            "grid_row": null,
            "max_height": null,
            "align_content": null,
            "visibility": null,
            "align_self": null,
            "height": null,
            "min_height": null,
            "padding": null,
            "grid_auto_rows": null,
            "grid_gap": null,
            "max_width": null,
            "order": null,
            "_view_module_version": "1.2.0",
            "grid_template_areas": null,
            "object_position": null,
            "object_fit": null,
            "grid_auto_columns": null,
            "margin": null,
            "display": null,
            "left": null
          }
        },
        "96ee2568974146fd906202e12e0559ee": {
          "model_module": "@jupyter-widgets/controls",
          "model_name": "HBoxModel",
          "state": {
            "_view_name": "HBoxView",
            "_dom_classes": [],
            "_model_name": "HBoxModel",
            "_view_module": "@jupyter-widgets/controls",
            "_model_module_version": "1.5.0",
            "_view_count": null,
            "_view_module_version": "1.5.0",
            "box_style": "",
            "layout": "IPY_MODEL_e75f7bf820ad428fadbda5fedefb6c44",
            "_model_module": "@jupyter-widgets/controls",
            "children": [
              "IPY_MODEL_b1fa3ef6875c48c0b62d6ee0abda34a0",
              "IPY_MODEL_6cd31d8a44f84821a36571295f9643f1"
            ]
          }
        },
        "e75f7bf820ad428fadbda5fedefb6c44": {
          "model_module": "@jupyter-widgets/base",
          "model_name": "LayoutModel",
          "state": {
            "_view_name": "LayoutView",
            "grid_template_rows": null,
            "right": null,
            "justify_content": null,
            "_view_module": "@jupyter-widgets/base",
            "overflow": null,
            "_model_module_version": "1.2.0",
            "_view_count": null,
            "flex_flow": null,
            "width": null,
            "min_width": null,
            "border": null,
            "align_items": null,
            "bottom": null,
            "_model_module": "@jupyter-widgets/base",
            "top": null,
            "grid_column": null,
            "overflow_y": null,
            "overflow_x": null,
            "grid_auto_flow": null,
            "grid_area": null,
            "grid_template_columns": null,
            "flex": null,
            "_model_name": "LayoutModel",
            "justify_items": null,
            "grid_row": null,
            "max_height": null,
            "align_content": null,
            "visibility": null,
            "align_self": null,
            "height": null,
            "min_height": null,
            "padding": null,
            "grid_auto_rows": null,
            "grid_gap": null,
            "max_width": null,
            "order": null,
            "_view_module_version": "1.2.0",
            "grid_template_areas": null,
            "object_position": null,
            "object_fit": null,
            "grid_auto_columns": null,
            "margin": null,
            "display": null,
            "left": null
          }
        },
        "b1fa3ef6875c48c0b62d6ee0abda34a0": {
          "model_module": "@jupyter-widgets/controls",
          "model_name": "IntProgressModel",
          "state": {
            "_view_name": "ProgressView",
            "style": "IPY_MODEL_ba3677ff7912415e895b5c7166a1d881",
            "_dom_classes": [],
            "description": "  0%",
            "_model_name": "IntProgressModel",
            "bar_style": "info",
            "max": 1,
            "_view_module": "@jupyter-widgets/controls",
            "_model_module_version": "1.5.0",
            "value": 0,
            "_view_count": null,
            "_view_module_version": "1.5.0",
            "orientation": "horizontal",
            "min": 0,
            "description_tooltip": null,
            "_model_module": "@jupyter-widgets/controls",
            "layout": "IPY_MODEL_ae237306192742688b71761d865ef64c"
          }
        },
        "6cd31d8a44f84821a36571295f9643f1": {
          "model_module": "@jupyter-widgets/controls",
          "model_name": "HTMLModel",
          "state": {
            "_view_name": "HTMLView",
            "style": "IPY_MODEL_be502c4908104df7bcdf7344b48c2de7",
            "_dom_classes": [],
            "description": "",
            "_model_name": "HTMLModel",
            "placeholder": "​",
            "_view_module": "@jupyter-widgets/controls",
            "_model_module_version": "1.5.0",
            "value": " 0/4542 [00:00&lt;?, ?it/s]",
            "_view_count": null,
            "_view_module_version": "1.5.0",
            "description_tooltip": null,
            "_model_module": "@jupyter-widgets/controls",
            "layout": "IPY_MODEL_5529a6eceead42b8a6fb6294fab7cecb"
          }
        },
        "ba3677ff7912415e895b5c7166a1d881": {
          "model_module": "@jupyter-widgets/controls",
          "model_name": "ProgressStyleModel",
          "state": {
            "_view_name": "StyleView",
            "_model_name": "ProgressStyleModel",
            "description_width": "initial",
            "_view_module": "@jupyter-widgets/base",
            "_model_module_version": "1.5.0",
            "_view_count": null,
            "_view_module_version": "1.2.0",
            "bar_color": null,
            "_model_module": "@jupyter-widgets/controls"
          }
        },
        "ae237306192742688b71761d865ef64c": {
          "model_module": "@jupyter-widgets/base",
          "model_name": "LayoutModel",
          "state": {
            "_view_name": "LayoutView",
            "grid_template_rows": null,
            "right": null,
            "justify_content": null,
            "_view_module": "@jupyter-widgets/base",
            "overflow": null,
            "_model_module_version": "1.2.0",
            "_view_count": null,
            "flex_flow": null,
            "width": null,
            "min_width": null,
            "border": null,
            "align_items": null,
            "bottom": null,
            "_model_module": "@jupyter-widgets/base",
            "top": null,
            "grid_column": null,
            "overflow_y": null,
            "overflow_x": null,
            "grid_auto_flow": null,
            "grid_area": null,
            "grid_template_columns": null,
            "flex": null,
            "_model_name": "LayoutModel",
            "justify_items": null,
            "grid_row": null,
            "max_height": null,
            "align_content": null,
            "visibility": null,
            "align_self": null,
            "height": null,
            "min_height": null,
            "padding": null,
            "grid_auto_rows": null,
            "grid_gap": null,
            "max_width": null,
            "order": null,
            "_view_module_version": "1.2.0",
            "grid_template_areas": null,
            "object_position": null,
            "object_fit": null,
            "grid_auto_columns": null,
            "margin": null,
            "display": null,
            "left": null
          }
        },
        "be502c4908104df7bcdf7344b48c2de7": {
          "model_module": "@jupyter-widgets/controls",
          "model_name": "DescriptionStyleModel",
          "state": {
            "_view_name": "StyleView",
            "_model_name": "DescriptionStyleModel",
            "description_width": "",
            "_view_module": "@jupyter-widgets/base",
            "_model_module_version": "1.5.0",
            "_view_count": null,
            "_view_module_version": "1.2.0",
            "_model_module": "@jupyter-widgets/controls"
          }
        },
        "5529a6eceead42b8a6fb6294fab7cecb": {
          "model_module": "@jupyter-widgets/base",
          "model_name": "LayoutModel",
          "state": {
            "_view_name": "LayoutView",
            "grid_template_rows": null,
            "right": null,
            "justify_content": null,
            "_view_module": "@jupyter-widgets/base",
            "overflow": null,
            "_model_module_version": "1.2.0",
            "_view_count": null,
            "flex_flow": null,
            "width": null,
            "min_width": null,
            "border": null,
            "align_items": null,
            "bottom": null,
            "_model_module": "@jupyter-widgets/base",
            "top": null,
            "grid_column": null,
            "overflow_y": null,
            "overflow_x": null,
            "grid_auto_flow": null,
            "grid_area": null,
            "grid_template_columns": null,
            "flex": null,
            "_model_name": "LayoutModel",
            "justify_items": null,
            "grid_row": null,
            "max_height": null,
            "align_content": null,
            "visibility": null,
            "align_self": null,
            "height": null,
            "min_height": null,
            "padding": null,
            "grid_auto_rows": null,
            "grid_gap": null,
            "max_width": null,
            "order": null,
            "_view_module_version": "1.2.0",
            "grid_template_areas": null,
            "object_position": null,
            "object_fit": null,
            "grid_auto_columns": null,
            "margin": null,
            "display": null,
            "left": null
          }
        }
      }
    }
  },
  "cells": [
    {
      "cell_type": "markdown",
      "metadata": {
        "id": "FOl3ZqHkFP8N",
        "colab_type": "text"
      },
      "source": [
        "### Import the relevant libraries"
      ]
    },
    {
      "cell_type": "code",
      "metadata": {
        "id": "nuix5zo0FOQC",
        "colab_type": "code",
        "colab": {}
      },
      "source": [
        "import torch\n",
        "from torch import nn\n",
        "from torch import optim\n",
        "from torchvision import datasets\n",
        "import torchvision.transforms as transforms\n",
        "from matplotlib import pyplot as plt\n",
        "import numpy as np\n",
        "import torch.nn.functional as F\n",
        "import copy"
      ],
      "execution_count": 0,
      "outputs": []
    },
    {
      "cell_type": "markdown",
      "metadata": {
        "id": "uwPx1D-yFTcR",
        "colab_type": "text"
      },
      "source": [
        "### Load the data"
      ]
    },
    {
      "cell_type": "code",
      "metadata": {
        "id": "t8Johc0fv7de",
        "colab_type": "code",
        "outputId": "507780cd-41dd-4f05-f79e-903b74b1bbdd",
        "colab": {
          "base_uri": "https://localhost:8080/",
          "height": 349,
          "referenced_widgets": [
            "4a877ba5605a4ffb9c0ecb707260c984",
            "6cfea0ed4b2045668553275e504dd949",
            "275c65c94a64472b8ccc3315ff45b704",
            "dd2e4ecd081f42e5abc1c0cdbbac8a3f",
            "f2e3cbebed5740a38aa353c51f9d541a",
            "dd72bbeec2ac4605a82c60fdabcf733c",
            "06cb0311eaa2474da91135b11aa89fc8",
            "79ce0d45723249da841c7e76757122c7",
            "44d90e3d20a04a20ba0bf41482136c00",
            "eac760c24966404b9a7a869a6b76467d",
            "15fbadc060c84ec4a8af4672a0aa4341",
            "6ccd99ea4df240dfa0a61d7b26e0a36b",
            "51a616afb4634ff59e0bae50ded5e231",
            "0070027eff964159aa8bd2011270aa32",
            "73128a7eed664251b443b3e29d6a06e1",
            "83c07f1d8db149d38cd04116c2fffe9b",
            "2328815211084168b38544e7282e411d",
            "86a7dea721604693add881b0f42d7c57",
            "0f25fe7169584287ae14985b884fade1",
            "b4e3406810314ce382710535b8b1ba69",
            "741a0576d89a4468a18449a7bdf92e8f",
            "b9cd70c114214396ad9b48cc3be94fec",
            "16d0626769ff41fc84cee2a4946ed6a6",
            "801499f8c71442e28dcc112edd372fcd",
            "96ee2568974146fd906202e12e0559ee",
            "e75f7bf820ad428fadbda5fedefb6c44",
            "b1fa3ef6875c48c0b62d6ee0abda34a0",
            "6cd31d8a44f84821a36571295f9643f1",
            "ba3677ff7912415e895b5c7166a1d881",
            "ae237306192742688b71761d865ef64c",
            "be502c4908104df7bcdf7344b48c2de7",
            "5529a6eceead42b8a6fb6294fab7cecb"
          ]
        }
      },
      "source": [
        "train_loader = torch.utils.data.DataLoader(\n",
        "      datasets.MNIST('data',\n",
        "                      train=True,\n",
        "                      download=True,\n",
        "                      transform=transforms.Compose([\n",
        "                         transforms.ToTensor(),\n",
        "                         transforms.Normalize((0.1307,), (0.3081,))\n",
        "                     ])),\n",
        "      batch_size=128, shuffle=True)\n",
        "test_loader = torch.utils.data.DataLoader(\n",
        "      datasets.MNIST('data',\n",
        "                      train=False,\n",
        "                      download=True,\n",
        "                      transform=transforms.Compose([\n",
        "                         transforms.ToTensor(),\n",
        "                         transforms.Normalize((0.1307,), (0.3081,))\n",
        "                     ])),\n",
        "      batch_size=128, shuffle=True)"
      ],
      "execution_count": 2,
      "outputs": [
        {
          "output_type": "stream",
          "text": [
            "Downloading http://yann.lecun.com/exdb/mnist/train-images-idx3-ubyte.gz to data/MNIST/raw/train-images-idx3-ubyte.gz\n"
          ],
          "name": "stdout"
        },
        {
          "output_type": "display_data",
          "data": {
            "application/vnd.jupyter.widget-view+json": {
              "model_id": "4a877ba5605a4ffb9c0ecb707260c984",
              "version_minor": 0,
              "version_major": 2
            },
            "text/plain": [
              "HBox(children=(IntProgress(value=1, bar_style='info', max=1), HTML(value='')))"
            ]
          },
          "metadata": {
            "tags": []
          }
        },
        {
          "output_type": "stream",
          "text": [
            "Extracting data/MNIST/raw/train-images-idx3-ubyte.gz to data/MNIST/raw\n",
            "Downloading http://yann.lecun.com/exdb/mnist/train-labels-idx1-ubyte.gz to data/MNIST/raw/train-labels-idx1-ubyte.gz\n"
          ],
          "name": "stdout"
        },
        {
          "output_type": "display_data",
          "data": {
            "application/vnd.jupyter.widget-view+json": {
              "model_id": "44d90e3d20a04a20ba0bf41482136c00",
              "version_minor": 0,
              "version_major": 2
            },
            "text/plain": [
              "HBox(children=(IntProgress(value=1, bar_style='info', max=1), HTML(value='')))"
            ]
          },
          "metadata": {
            "tags": []
          }
        },
        {
          "output_type": "stream",
          "text": [
            "Extracting data/MNIST/raw/train-labels-idx1-ubyte.gz to data/MNIST/raw\n",
            "Downloading http://yann.lecun.com/exdb/mnist/t10k-images-idx3-ubyte.gz to data/MNIST/raw/t10k-images-idx3-ubyte.gz\n"
          ],
          "name": "stdout"
        },
        {
          "output_type": "display_data",
          "data": {
            "application/vnd.jupyter.widget-view+json": {
              "model_id": "2328815211084168b38544e7282e411d",
              "version_minor": 0,
              "version_major": 2
            },
            "text/plain": [
              "HBox(children=(IntProgress(value=1, bar_style='info', max=1), HTML(value='')))"
            ]
          },
          "metadata": {
            "tags": []
          }
        },
        {
          "output_type": "stream",
          "text": [
            "Extracting data/MNIST/raw/t10k-images-idx3-ubyte.gz to data/MNIST/raw\n",
            "Downloading http://yann.lecun.com/exdb/mnist/t10k-labels-idx1-ubyte.gz to data/MNIST/raw/t10k-labels-idx1-ubyte.gz\n"
          ],
          "name": "stdout"
        },
        {
          "output_type": "display_data",
          "data": {
            "application/vnd.jupyter.widget-view+json": {
              "model_id": "96ee2568974146fd906202e12e0559ee",
              "version_minor": 0,
              "version_major": 2
            },
            "text/plain": [
              "HBox(children=(IntProgress(value=1, bar_style='info', max=1), HTML(value='')))"
            ]
          },
          "metadata": {
            "tags": []
          }
        },
        {
          "output_type": "stream",
          "text": [
            "\n",
            "\n",
            "Extracting data/MNIST/raw/t10k-labels-idx1-ubyte.gz to data/MNIST/raw\n",
            "Processing...\n",
            "Done!\n"
          ],
          "name": "stdout"
        }
      ]
    },
    {
      "cell_type": "markdown",
      "metadata": {
        "id": "GnL42m7rFXwe",
        "colab_type": "text"
      },
      "source": [
        "### Define the model architecture"
      ]
    },
    {
      "cell_type": "code",
      "metadata": {
        "id": "E8upR1m1wIh0",
        "colab_type": "code",
        "outputId": "2b25dfa7-b3dc-4bf3-e3b2-8b78003c8426",
        "colab": {
          "base_uri": "https://localhost:8080/",
          "height": 34
        }
      },
      "source": [
        "device = torch.device(\"cuda:0\" if torch.cuda.is_available() else \"cpu\")\n",
        "device"
      ],
      "execution_count": 3,
      "outputs": [
        {
          "output_type": "execute_result",
          "data": {
            "text/plain": [
              "device(type='cuda', index=0)"
            ]
          },
          "metadata": {
            "tags": []
          },
          "execution_count": 3
        }
      ]
    },
    {
      "cell_type": "code",
      "metadata": {
        "id": "o_6Ivw83wOAn",
        "colab_type": "code",
        "colab": {}
      },
      "source": [
        "class Model(nn.Module):\n",
        "\n",
        "  def __init__(self):\n",
        "    super().__init__()\n",
        "\n",
        "    n_hidden = 1024\n",
        "\n",
        "    self.l1 = nn.Linear(784, n_hidden)\n",
        "    self.l2 = nn.Linear(n_hidden, n_hidden)\n",
        "    self.l3 = nn.Linear(n_hidden, n_hidden)\n",
        "    self.l4 = nn.Linear(n_hidden, n_hidden)\n",
        "    self.l5 = nn.Linear(n_hidden, n_hidden)\n",
        "    self.l6 = nn.Linear(n_hidden, n_hidden)\n",
        "    self.l7 = nn.Linear(n_hidden, 10)\n",
        "\n",
        "    # self.dropout = nn.Dropout(0.2)\n",
        "  \n",
        "  def forward(self, x):\n",
        "    x = F.relu(self.l1(x))\n",
        "    x = F.dropout(x)\n",
        "    x = F.relu(self.l2(x))\n",
        "    x = F.dropout(x)\n",
        "    x = F.relu(self.l3(x))\n",
        "    x = F.dropout(x)\n",
        "    x = F.relu(self.l4(x))\n",
        "    x = F.dropout(x)\n",
        "    x = F.relu(self.l5(x))\n",
        "    x = F.dropout(x)\n",
        "    x = F.relu(self.l6(x))\n",
        "    x = F.dropout(x)\n",
        "    x = self.l7(x)\n",
        "\n",
        "    return x"
      ],
      "execution_count": 0,
      "outputs": []
    },
    {
      "cell_type": "code",
      "metadata": {
        "id": "vevFcZrbwSgi",
        "colab_type": "code",
        "colab": {}
      },
      "source": [
        "model = Model()"
      ],
      "execution_count": 0,
      "outputs": []
    },
    {
      "cell_type": "code",
      "metadata": {
        "id": "ii7qanaXwU2_",
        "colab_type": "code",
        "colab": {}
      },
      "source": [
        "model = model.to(device)"
      ],
      "execution_count": 0,
      "outputs": []
    },
    {
      "cell_type": "code",
      "metadata": {
        "id": "yXetgqjgwXGZ",
        "colab_type": "code",
        "outputId": "4949442b-342a-4751-ba81-64fc6f0c6c57",
        "colab": {
          "base_uri": "https://localhost:8080/",
          "height": 170
        }
      },
      "source": [
        "print(model)"
      ],
      "execution_count": 7,
      "outputs": [
        {
          "output_type": "stream",
          "text": [
            "Model(\n",
            "  (l1): Linear(in_features=784, out_features=1024, bias=True)\n",
            "  (l2): Linear(in_features=1024, out_features=1024, bias=True)\n",
            "  (l3): Linear(in_features=1024, out_features=1024, bias=True)\n",
            "  (l4): Linear(in_features=1024, out_features=1024, bias=True)\n",
            "  (l5): Linear(in_features=1024, out_features=1024, bias=True)\n",
            "  (l6): Linear(in_features=1024, out_features=1024, bias=True)\n",
            "  (l7): Linear(in_features=1024, out_features=10, bias=True)\n",
            ")\n"
          ],
          "name": "stdout"
        }
      ]
    },
    {
      "cell_type": "markdown",
      "metadata": {
        "id": "kH-qRpE6FdGc",
        "colab_type": "text"
      },
      "source": [
        "### Define the loss and optimizer"
      ]
    },
    {
      "cell_type": "code",
      "metadata": {
        "id": "v0QIbTHrwY1u",
        "colab_type": "code",
        "colab": {}
      },
      "source": [
        "criterion = nn.CrossEntropyLoss()"
      ],
      "execution_count": 0,
      "outputs": []
    },
    {
      "cell_type": "code",
      "metadata": {
        "id": "E9W4Wu8nwcUL",
        "colab_type": "code",
        "colab": {}
      },
      "source": [
        "optimizer = optim.Adam(model.parameters(), lr=0.001)"
      ],
      "execution_count": 0,
      "outputs": []
    },
    {
      "cell_type": "markdown",
      "metadata": {
        "id": "rxviPha-FgHk",
        "colab_type": "text"
      },
      "source": [
        "### Train the model"
      ]
    },
    {
      "cell_type": "code",
      "metadata": {
        "id": "mo6QUSIAwg6T",
        "colab_type": "code",
        "outputId": "d5b4b73b-dfe9-4e9a-da1f-2ab6631c38a0",
        "colab": {
          "base_uri": "https://localhost:8080/",
          "height": 357
        }
      },
      "source": [
        "epochs = 20\n",
        "for e in range(epochs):\n",
        "    # loss for every epoch\n",
        "    running_loss = 0\n",
        "    for images, labels in train_loader:\n",
        "      images = images.to(device)\n",
        "      labels = labels.to(device)\n",
        "\n",
        "      images = images.view(images.shape[0], -1)\n",
        "\n",
        "      # make the gradients 0 for a new batch\n",
        "      optimizer.zero_grad()\n",
        "\n",
        "      # calculate the outputs\n",
        "      output = model(images)\n",
        "\n",
        "      # calculate the loss\n",
        "      loss = criterion(output, labels)\n",
        "\n",
        "      # calculate the gradients\n",
        "      loss.backward()\n",
        "\n",
        "      # update the weights\n",
        "      optimizer.step()\n",
        "        \n",
        "      running_loss += loss.item()\n",
        "\n",
        "    print(f\"Loss for epoch {e}: {running_loss/len(train_loader)}\")"
      ],
      "execution_count": 10,
      "outputs": [
        {
          "output_type": "stream",
          "text": [
            "Loss for epoch 0: 0.6163255866847313\n",
            "Loss for epoch 1: 0.29443212765366283\n",
            "Loss for epoch 2: 0.2608007381179694\n",
            "Loss for epoch 3: 0.22701774969665225\n",
            "Loss for epoch 4: 0.2184638230642403\n",
            "Loss for epoch 5: 0.214267202484201\n",
            "Loss for epoch 6: 0.20294847263932736\n",
            "Loss for epoch 7: 0.19419156807635637\n",
            "Loss for epoch 8: 0.18487978893826637\n",
            "Loss for epoch 9: 0.19013424054074135\n",
            "Loss for epoch 10: 0.18808299835239137\n",
            "Loss for epoch 11: 0.17935319501422106\n",
            "Loss for epoch 12: 0.18296682483542448\n",
            "Loss for epoch 13: 0.17323190950031983\n",
            "Loss for epoch 14: 0.19125369749168977\n",
            "Loss for epoch 15: 0.17263144980282036\n",
            "Loss for epoch 16: 0.1737458509271905\n",
            "Loss for epoch 17: 0.17531809120623668\n",
            "Loss for epoch 18: 0.1880974323113463\n",
            "Loss for epoch 19: 0.18732999670289474\n"
          ],
          "name": "stdout"
        }
      ]
    },
    {
      "cell_type": "code",
      "metadata": {
        "id": "oSeuZrFjwjll",
        "colab_type": "code",
        "outputId": "a6ab1f87-d06a-4c5c-94d6-e0cc18505510",
        "colab": {
          "base_uri": "https://localhost:8080/",
          "height": 170
        }
      },
      "source": [
        "model.cpu()"
      ],
      "execution_count": 11,
      "outputs": [
        {
          "output_type": "execute_result",
          "data": {
            "text/plain": [
              "Model(\n",
              "  (l1): Linear(in_features=784, out_features=1024, bias=True)\n",
              "  (l2): Linear(in_features=1024, out_features=1024, bias=True)\n",
              "  (l3): Linear(in_features=1024, out_features=1024, bias=True)\n",
              "  (l4): Linear(in_features=1024, out_features=1024, bias=True)\n",
              "  (l5): Linear(in_features=1024, out_features=1024, bias=True)\n",
              "  (l6): Linear(in_features=1024, out_features=1024, bias=True)\n",
              "  (l7): Linear(in_features=1024, out_features=10, bias=True)\n",
              ")"
            ]
          },
          "metadata": {
            "tags": []
          },
          "execution_count": 11
        }
      ]
    },
    {
      "cell_type": "markdown",
      "metadata": {
        "id": "xSm2EtuaFi4r",
        "colab_type": "text"
      },
      "source": [
        "### Test the model"
      ]
    },
    {
      "cell_type": "code",
      "metadata": {
        "id": "u0V0k0UEws9i",
        "colab_type": "code",
        "colab": {}
      },
      "source": [
        "X_test = torch.Tensor()\n",
        "y_test = torch.Tensor()\n",
        "for images, labels in test_loader:\n",
        "      images = images.view(images.shape[0], -1)\n",
        "      X_test = torch.cat((X_test, images))\n",
        "      y_test = torch.cat((y_test, labels.float()))"
      ],
      "execution_count": 0,
      "outputs": []
    },
    {
      "cell_type": "code",
      "metadata": {
        "id": "QpOaCg27WLxA",
        "colab_type": "code",
        "colab": {}
      },
      "source": [
        "def get_accuracy(mod):\n",
        "  \"\"\"\n",
        "  Takes a model and runs the test data through\n",
        "  it to calculate the accuracy\n",
        "  \"\"\"\n",
        "  # run the test data through the model\n",
        "  preds = mod(X_test)\n",
        "\n",
        "  # apply softmax on it\n",
        "  preds = F.softmax(preds, dim=1)\n",
        "\n",
        "  # finally get the predictions\n",
        "  prob, pred = torch.max(preds, 1)\n",
        "\n",
        "  # finally calculate and return the accuracy\n",
        "  accuracy = (pred.float() == y_test).float().mean()\n",
        "  accuracy = accuracy * 100\n",
        "  return accuracy"
      ],
      "execution_count": 0,
      "outputs": []
    },
    {
      "cell_type": "code",
      "metadata": {
        "id": "et_b-XNwWsSz",
        "colab_type": "code",
        "outputId": "53f11a60-067c-4104-8da6-803d0eb6cac5",
        "colab": {
          "base_uri": "https://localhost:8080/",
          "height": 34
        }
      },
      "source": [
        "get_accuracy(model)"
      ],
      "execution_count": 14,
      "outputs": [
        {
          "output_type": "execute_result",
          "data": {
            "text/plain": [
              "tensor(95.2200)"
            ]
          },
          "metadata": {
            "tags": []
          },
          "execution_count": 14
        }
      ]
    },
    {
      "cell_type": "markdown",
      "metadata": {
        "id": "pJf_CEBjFlky",
        "colab_type": "text"
      },
      "source": [
        "### 1.5 Apply SVD on model and plot accuracies"
      ]
    },
    {
      "cell_type": "code",
      "metadata": {
        "id": "uiqbBTvOdNwj",
        "colab_type": "code",
        "colab": {}
      },
      "source": [
        "def apply_svd(weights, d):\n",
        "  \"\"\"\n",
        "  Applies svd on a given layers weights and given d\n",
        "  \"\"\"\n",
        "  u,s,v = torch.svd(weights)\n",
        "  s = torch.diag(s)\n",
        "  # print(u.shape, v.shape, s.shape)\n",
        "  u = u[:,:d]\n",
        "  s = s[:d,:d]\n",
        "  v = v[:,:d]\n",
        "  # print(u.shape, v.shape, s.shape)\n",
        "  out = torch.mm(torch.mm(u, s), v.t())\n",
        "  return out"
      ],
      "execution_count": 0,
      "outputs": []
    },
    {
      "cell_type": "code",
      "metadata": {
        "id": "78xpif3jCJGb",
        "colab_type": "code",
        "outputId": "d0300fea-3178-4265-df93-9f9d76b2badc",
        "colab": {
          "base_uri": "https://localhost:8080/",
          "height": 34
        }
      },
      "source": [
        "o = apply_svd(model.l1.weight, 20)\n",
        "o.shape"
      ],
      "execution_count": 16,
      "outputs": [
        {
          "output_type": "execute_result",
          "data": {
            "text/plain": [
              "torch.Size([1024, 784])"
            ]
          },
          "metadata": {
            "tags": []
          },
          "execution_count": 16
        }
      ]
    },
    {
      "cell_type": "code",
      "metadata": {
        "id": "IkBTetQpPNec",
        "colab_type": "code",
        "outputId": "44f41ce7-2ac3-4902-8dfe-b4e209fa08d5",
        "colab": {
          "base_uri": "https://localhost:8080/",
          "height": 119
        }
      },
      "source": [
        "for name, layer in list(model.named_children())[:-1]:\n",
        "  print(name)"
      ],
      "execution_count": 17,
      "outputs": [
        {
          "output_type": "stream",
          "text": [
            "l1\n",
            "l2\n",
            "l3\n",
            "l4\n",
            "l5\n",
            "l6\n"
          ],
          "name": "stdout"
        }
      ]
    },
    {
      "cell_type": "code",
      "metadata": {
        "id": "clKtm-D8ZDcR",
        "colab_type": "code",
        "colab": {}
      },
      "source": [
        "ds = [10,20,50,100,200]\n",
        "def compressed_models():\n",
        "  \"\"\"\n",
        "  Create a bunch of models by applying svd to every layer\n",
        "  of the model based on the value of d. Print the accuracy\n",
        "  using the new models\n",
        "  \"\"\"\n",
        "  models = {}\n",
        "  mod_no = 0\n",
        "  accuracies = []\n",
        "\n",
        "  # print(\"Accuracy before svd: \", get_accuracy(model))\n",
        "  \n",
        "  for d in ds:\n",
        "    # make a copy of the original model\n",
        "    m = copy.deepcopy(model)\n",
        "    # go through all its layers (except the last one)\n",
        "    for name, layer in list(m.named_children())[:-1]:\n",
        "      # apply svd on every layer\n",
        "      new_weight = apply_svd(layer.weight, d)\n",
        "      # and modify the layers weight accordingly\n",
        "      layer.weight.data = new_weight\n",
        "    # save the model\n",
        "    acc = get_accuracy(m)\n",
        "    accuracies.append(acc)\n",
        "    models['model_' + str(mod_no)] = m\n",
        "    mod_no += 1\n",
        "    # print(\"Accuracy after svd for d =\",d, \"is\", acc)\n",
        "  return ds, accuracies"
      ],
      "execution_count": 0,
      "outputs": []
    },
    {
      "cell_type": "code",
      "metadata": {
        "id": "HZCD0xQ7fGFQ",
        "colab_type": "code",
        "colab": {}
      },
      "source": [
        "ds, accuracies = compressed_models()"
      ],
      "execution_count": 0,
      "outputs": []
    },
    {
      "cell_type": "code",
      "metadata": {
        "id": "EyOhYIM_DEiu",
        "colab_type": "code",
        "colab": {}
      },
      "source": [
        "ds.append(X_test.shape[1])\n",
        "accuracies.append(get_accuracy(model))"
      ],
      "execution_count": 0,
      "outputs": []
    },
    {
      "cell_type": "code",
      "metadata": {
        "id": "UOkjQueMENn4",
        "colab_type": "code",
        "outputId": "b8fd8206-f0f8-499b-9542-de50fa124089",
        "colab": {
          "base_uri": "https://localhost:8080/",
          "height": 136
        }
      },
      "source": [
        "ds, accuracies"
      ],
      "execution_count": 21,
      "outputs": [
        {
          "output_type": "execute_result",
          "data": {
            "text/plain": [
              "([10, 20, 50, 100, 200, 784],\n",
              " [tensor(62.5300),\n",
              "  tensor(85.2400),\n",
              "  tensor(92.7300),\n",
              "  tensor(94.7700),\n",
              "  tensor(95.1300),\n",
              "  tensor(95.4000)])"
            ]
          },
          "metadata": {
            "tags": []
          },
          "execution_count": 21
        }
      ]
    },
    {
      "cell_type": "code",
      "metadata": {
        "id": "DbtVi0goEgTc",
        "colab_type": "code",
        "outputId": "4415c148-cd78-47a9-fdaf-28ba4dfb6cfe",
        "colab": {
          "base_uri": "https://localhost:8080/",
          "height": 295
        }
      },
      "source": [
        "plt.plot(ds, accuracies)\n",
        "plt.xlabel(\"Value of d for SVD\")\n",
        "plt.ylabel(\"Accuracy\")\n",
        "plt.title(\"Increase in accuracy with increase in compression factor d\")\n",
        "plt.show()"
      ],
      "execution_count": 22,
      "outputs": [
        {
          "output_type": "display_data",
          "data": {
            "image/png": "[encoded data removed]",
            "text/plain": [
              "<Figure size 432x288 with 1 Axes>"
            ]
          },
          "metadata": {
            "tags": []
          }
        }
      ]
    },
    {
      "cell_type": "markdown",
      "metadata": {
        "id": "-1vokimoAX3v",
        "colab_type": "text"
      },
      "source": [
        "### 1.6 Approach 1, train compressed model"
      ]
    },
    {
      "cell_type": "code",
      "metadata": {
        "id": "b-jN7tuGoCeE",
        "colab_type": "code",
        "colab": {}
      },
      "source": [
        "def var_svd(weights, d):\n",
        "  u,s,v = torch.svd(weights)\n",
        "  s = torch.diag(s)\n",
        "  u = u[:,:d]\n",
        "  s = s[:d,:d]\n",
        "  v = v[:,:d]\n",
        "  u_hat = u\n",
        "  v_hat = torch.mm(s, v.t())\n",
        "  return u_hat, v_hat"
      ],
      "execution_count": 0,
      "outputs": []
    },
    {
      "cell_type": "code",
      "metadata": {
        "id": "QDzJrQQxq5NQ",
        "colab_type": "code",
        "colab": {}
      },
      "source": [
        "d = 20\n",
        "count = 0\n",
        "new_params = []\n",
        "for name, layer in model.named_children():\n",
        "  u_hat, v_hat = var_svd(layer.weight, d)\n",
        "  new_params.append([u_hat,v_hat])"
      ],
      "execution_count": 0,
      "outputs": []
    },
    {
      "cell_type": "code",
      "metadata": {
        "id": "iQKN74xdnX_e",
        "colab_type": "code",
        "colab": {}
      },
      "source": [
        "class SVD_Model(nn.Module):\n",
        "\n",
        "  def __init__(self):\n",
        "    super().__init__()\n",
        "    self.u1 = nn.Parameter(torch.Tensor(new_params[0][0]).to(device))\n",
        "    self.v1 = nn.Parameter(torch.Tensor(new_params[0][1]).to(device))\n",
        "    self.b1 = nn.Parameter(torch.randn(self.u1.shape[0]).to(device))\n",
        "    \n",
        "    self.u2 = nn.Parameter(torch.Tensor(new_params[1][0]).to(device))\n",
        "    self.v2 = nn.Parameter(torch.Tensor(new_params[1][1]).to(device))\n",
        "    self.b2 = nn.Parameter(torch.randn(self.u2.shape[0]).to(device))\n",
        "    \n",
        "    self.u3 = nn.Parameter(torch.Tensor(new_params[2][0]).to(device))\n",
        "    self.v3 = nn.Parameter(torch.Tensor(new_params[2][1]).to(device))\n",
        "    self.b3 = nn.Parameter(torch.randn(self.u3.shape[0]).to(device))\n",
        "    \n",
        "    self.u4 = nn.Parameter(torch.Tensor(new_params[3][0]).to(device))\n",
        "    self.v4 = nn.Parameter(torch.Tensor(new_params[3][1]).to(device))\n",
        "    self.b4 = nn.Parameter(torch.randn(self.u4.shape[0]).to(device))\n",
        "    \n",
        "    self.u5 = nn.Parameter(torch.Tensor(new_params[4][0]).to(device))\n",
        "    self.v5 = nn.Parameter(torch.Tensor(new_params[4][1]).to(device))\n",
        "    self.b5 = nn.Parameter(torch.randn(self.u5.shape[0]).to(device))\n",
        "    \n",
        "    self.u6 = nn.Parameter(torch.Tensor(new_params[5][0]).to(device))\n",
        "    self.v6 = nn.Parameter(torch.Tensor(new_params[5][1]).to(device))\n",
        "    self.b6 = nn.Parameter(torch.randn(self.u6.shape[0]).to(device))\n",
        "    \n",
        "    self.u7 = nn.Parameter(torch.Tensor(new_params[6][0]).to(device))\n",
        "    self.v7 = nn.Parameter(torch.Tensor(new_params[6][1]).to(device))\n",
        "    self.b7 = nn.Parameter(torch.randn(self.u7.shape[0]).to(device))\n",
        "  \n",
        "  def forward(self, x):\n",
        "    w1 = torch.mm(self.u1, self.v1)\n",
        "    x = F.relu(torch.mm(x, w1.T) + self.b1)\n",
        "    x = F.dropout(x)\n",
        "\n",
        "    w2 = torch.mm(self.u2, self.v2)\n",
        "    x = F.relu(torch.mm(x, w2.T) + self.b2)\n",
        "    x = F.dropout(x)\n",
        "\n",
        "    w3 = torch.mm(self.u3, self.v3)\n",
        "    x = F.relu(torch.mm(x, w3.T) + self.b3)\n",
        "    x = F.dropout(x)\n",
        "\n",
        "    w4 = torch.mm(self.u4, self.v4)\n",
        "    x = F.relu(torch.mm(x, w4.T) + self.b4)\n",
        "    x = F.dropout(x)\n",
        "\n",
        "    w5 = torch.mm(self.u5, self.v5)\n",
        "    x = F.relu(torch.mm(x, w5.T) + self.b5)\n",
        "    x = F.dropout(x)\n",
        "\n",
        "    w6 = torch.mm(self.u6, self.v6)\n",
        "    x = F.relu(torch.mm(x, w6.T) + self.b6)\n",
        "    x = F.dropout(x)\n",
        "\n",
        "    w7 = torch.mm(self.u7, self.v7)\n",
        "    x = torch.mm(x, w7.T) + self.b7\n",
        "    return x\n"
      ],
      "execution_count": 0,
      "outputs": []
    },
    {
      "cell_type": "code",
      "metadata": {
        "id": "R2uu7mCzncI0",
        "colab_type": "code",
        "colab": {}
      },
      "source": [
        "svd_model = SVD_Model()"
      ],
      "execution_count": 0,
      "outputs": []
    },
    {
      "cell_type": "code",
      "metadata": {
        "id": "L8djypUNAxwc",
        "colab_type": "code",
        "colab": {}
      },
      "source": [
        "svd_model = svd_model.to(device)"
      ],
      "execution_count": 0,
      "outputs": []
    },
    {
      "cell_type": "code",
      "metadata": {
        "id": "LEdRIjBQD_kv",
        "colab_type": "code",
        "colab": {}
      },
      "source": [
        "X_test = X_test.to(device)\n",
        "y_test = y_test.to(device)"
      ],
      "execution_count": 0,
      "outputs": []
    },
    {
      "cell_type": "code",
      "metadata": {
        "id": "Oes6D9m12vCw",
        "colab_type": "code",
        "outputId": "921c92fb-691e-4316-cb4b-9ead2bd2b4a5",
        "colab": {
          "base_uri": "https://localhost:8080/",
          "height": 34
        }
      },
      "source": [
        "# accuracy before training\n",
        "get_accuracy(svd_model)"
      ],
      "execution_count": 29,
      "outputs": [
        {
          "output_type": "execute_result",
          "data": {
            "text/plain": [
              "tensor(66.0600, device='cuda:0')"
            ]
          },
          "metadata": {
            "tags": []
          },
          "execution_count": 29
        }
      ]
    },
    {
      "cell_type": "code",
      "metadata": {
        "id": "d0HGIJpSQCIw",
        "colab_type": "code",
        "colab": {}
      },
      "source": [
        "criterion1 = nn.CrossEntropyLoss()"
      ],
      "execution_count": 0,
      "outputs": []
    },
    {
      "cell_type": "code",
      "metadata": {
        "id": "MfUwYNFLQCL6",
        "colab_type": "code",
        "colab": {}
      },
      "source": [
        "optimizer1 = optim.Adam(svd_model.parameters(), lr=0.001)"
      ],
      "execution_count": 0,
      "outputs": []
    },
    {
      "cell_type": "code",
      "metadata": {
        "id": "ITPo4_T6NO8j",
        "colab_type": "code",
        "outputId": "b91324ae-2416-4baf-a6ad-b2c8634ce51a",
        "colab": {
          "base_uri": "https://localhost:8080/",
          "height": 187
        }
      },
      "source": [
        "epochs = 10\n",
        "for e in range(epochs):\n",
        "\n",
        "    running_loss = 0\n",
        "    for images, labels in train_loader:\n",
        "      images = images.to(device)\n",
        "      labels = labels.to(device)\n",
        "\n",
        "      images = images.view(images.shape[0], -1)\n",
        "      optimizer1.zero_grad()\n",
        "      output1 = svd_model(images)\n",
        "      loss1 = criterion1(output1, labels)\n",
        "      # print(svd_model.u1.data)\n",
        "      loss1.backward(retain_graph=True)\n",
        "      optimizer1.step()\n",
        "        \n",
        "      running_loss += loss1.item()\n",
        "\n",
        "    print(f\"Loss for epoch {e}: {running_loss/len(train_loader)}\")"
      ],
      "execution_count": 32,
      "outputs": [
        {
          "output_type": "stream",
          "text": [
            "Loss for epoch 0: 0.2798076334522604\n",
            "Loss for epoch 1: 0.24480863810697598\n",
            "Loss for epoch 2: 0.21859280963632852\n",
            "Loss for epoch 3: 0.2122929796401753\n",
            "Loss for epoch 4: 0.20878058526593485\n",
            "Loss for epoch 5: 0.1987407830621261\n",
            "Loss for epoch 6: 0.19839296894255223\n",
            "Loss for epoch 7: 0.1843674760987001\n",
            "Loss for epoch 8: 0.1779479184813464\n",
            "Loss for epoch 9: 0.18281392749549866\n"
          ],
          "name": "stdout"
        }
      ]
    },
    {
      "cell_type": "code",
      "metadata": {
        "id": "Ubl-zEc-_7xK",
        "colab_type": "code",
        "outputId": "5ecffca6-76c8-46c4-9620-9f40c1fcdb2a",
        "colab": {
          "base_uri": "https://localhost:8080/",
          "height": 34
        }
      },
      "source": [
        "get_accuracy(svd_model)"
      ],
      "execution_count": 33,
      "outputs": [
        {
          "output_type": "execute_result",
          "data": {
            "text/plain": [
              "tensor(95.6800, device='cuda:0')"
            ]
          },
          "metadata": {
            "tags": []
          },
          "execution_count": 33
        }
      ]
    },
    {
      "cell_type": "code",
      "metadata": {
        "id": "fXWH4PC5-gP_",
        "colab_type": "code",
        "colab": {}
      },
      "source": [
        ""
      ],
      "execution_count": 0,
      "outputs": []
    }
  ]
}